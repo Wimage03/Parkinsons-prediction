{
 "cells": [
  {
   "cell_type": "code",
   "execution_count": 2,
   "id": "d21580fb-9f69-485b-bca3-56c52a2c00f3",
   "metadata": {},
   "outputs": [],
   "source": [
    "import numpy as np\n",
    "from sklearn.model_selection import KFold, cross_validate\n",
    "from sklearn.svm import SVC\n",
    "from sklearn.preprocessing import StandardScaler\n",
    "from sklearn.pipeline import make_pipeline"
   ]
  },
  {
   "cell_type": "code",
   "execution_count": 15,
   "id": "a566b9b1-0857-4bae-aa94-020a4c25a995",
   "metadata": {},
   "outputs": [],
   "source": [
    "def train_and_evaluate(dataframe, k=5, max_iter=10000):\n",
    "    # --- Data Preparation ---\n",
    "    df = dataframe.iloc[1:].copy()  # Skip the first row\n",
    "    X = df.iloc[:, 2:]\n",
    "    y = df.iloc[:, 1]\n",
    "\n",
    "    # --- Pipeline: StandardScaler + SVC ---\n",
    "    # SVM is sensitive to scale, so standardizing often helps performance and convergence\n",
    "    svm_pipeline = make_pipeline(\n",
    "        StandardScaler(),\n",
    "        SVC(kernel='rbf', max_iter=max_iter, random_state=42)\n",
    "    )\n",
    "\n",
    "    # --- Cross Validation Setup ---\n",
    "    cv = KFold(n_splits=k, shuffle=True, random_state=42)\n",
    "    scoring = ['accuracy', 'precision_macro', 'recall_macro', 'f1_macro']\n",
    "    \n",
    "    # --- Perform Cross Validation ---\n",
    "    cv_results = cross_validate(svm_pipeline, X, y, cv=cv, scoring=scoring)\n",
    "\n",
    "    # --- Calculate Average Metrics ---\n",
    "    avg_accuracy  = np.mean(cv_results['test_accuracy'])\n",
    "    avg_precision = np.mean(cv_results['test_precision_macro'])\n",
    "    avg_recall    = np.mean(cv_results['test_recall_macro'])\n",
    "    avg_f1        = np.mean(cv_results['test_f1_macro'])\n",
    "\n",
    "    # --- Print or Return Results ---\n",
    "    metrics = {\n",
    "        'accuracy':  avg_accuracy,\n",
    "        'precision': avg_precision,\n",
    "        'recall':    avg_recall,\n",
    "        'f1_score':  avg_f1\n",
    "    }\n",
    "\n",
    "    print(f\"SVM CV Metrics (averaged over {k} folds):\")\n",
    "    for metric_name, value in metrics.items():\n",
    "        print(f\"{metric_name.capitalize()}: {value*100:.2f}\")\n",
    "\n",
    "    return metrics"
   ]
  },
  {
   "cell_type": "code",
   "execution_count": 16,
   "id": "88cfd59d-aedb-4f0b-b5ae-dedc117a0a34",
   "metadata": {},
   "outputs": [
    {
     "name": "stdout",
     "output_type": "stream",
     "text": [
      "SVM CV Metrics (averaged over 5 folds):\n",
      "Accuracy: 93.03\n",
      "Precision: 90.86\n",
      "Recall: 83.09\n",
      "F1_score: 86.14\n"
     ]
    },
    {
     "data": {
      "text/plain": [
       "{'accuracy': np.float64(0.9302905282435987),\n",
       " 'precision': np.float64(0.9085915798625376),\n",
       " 'recall': np.float64(0.8309122093659251),\n",
       " 'f1_score': np.float64(0.8614017103453468)}"
      ]
     },
     "execution_count": 16,
     "metadata": {},
     "output_type": "execute_result"
    }
   ],
   "source": [
    "# Combined dataset\n",
    "df = pd.read_csv('Datasets/combined_dataset.csv')\n",
    "train_and_evaluate(df)"
   ]
  },
  {
   "cell_type": "code",
   "execution_count": 17,
   "id": "2f3dd07b-9dfe-4852-acff-1451fcf3d53d",
   "metadata": {},
   "outputs": [
    {
     "name": "stdout",
     "output_type": "stream",
     "text": [
      "SVM CV Metrics (averaged over 5 folds):\n",
      "Accuracy: 92.94\n",
      "Precision: 90.37\n",
      "Recall: 85.27\n",
      "F1_score: 87.46\n"
     ]
    },
    {
     "data": {
      "text/plain": [
       "{'accuracy': np.float64(0.9293923250987655),\n",
       " 'precision': np.float64(0.9036750538738378),\n",
       " 'recall': np.float64(0.8527257191663727),\n",
       " 'f1_score': np.float64(0.8745503363468794)}"
      ]
     },
     "execution_count": 17,
     "metadata": {},
     "output_type": "execute_result"
    }
   ],
   "source": [
    "# Motor only dataset\n",
    "df = pd.read_csv('Datasets/motor_only.csv')\n",
    "train_and_evaluate(df)"
   ]
  },
  {
   "cell_type": "code",
   "execution_count": 18,
   "id": "0fb842d6-ca45-48b2-b046-0beeebc4da2b",
   "metadata": {},
   "outputs": [
    {
     "name": "stdout",
     "output_type": "stream",
     "text": [
      "SVM CV Metrics (averaged over 5 folds):\n",
      "Accuracy: 83.22\n",
      "Precision: 80.81\n",
      "Recall: 65.05\n",
      "F1_score: 68.73\n"
     ]
    },
    {
     "data": {
      "text/plain": [
       "{'accuracy': np.float64(0.832219004161091),\n",
       " 'precision': np.float64(0.80812093192804),\n",
       " 'recall': np.float64(0.6504552696369107),\n",
       " 'f1_score': np.float64(0.6873406321442996)}"
      ]
     },
     "execution_count": 18,
     "metadata": {},
     "output_type": "execute_result"
    }
   ],
   "source": [
    "# Non-motor only dataset\n",
    "df = pd.read_csv('Datasets/non_motor_only.csv')\n",
    "train_and_evaluate(df)"
   ]
  },
  {
   "cell_type": "code",
   "execution_count": 19,
   "id": "40d645b8-8a1d-4957-a23b-9c25486466f4",
   "metadata": {},
   "outputs": [
    {
     "name": "stdout",
     "output_type": "stream",
     "text": [
      "SVM CV Metrics (averaged over 5 folds):\n",
      "Accuracy: 91.73\n",
      "Precision: 89.82\n",
      "Recall: 82.72\n",
      "F1_score: 85.60\n"
     ]
    },
    {
     "data": {
      "text/plain": [
       "{'accuracy': np.float64(0.9173074055250791),\n",
       " 'precision': np.float64(0.8982259314000232),\n",
       " 'recall': np.float64(0.8271982266881339),\n",
       " 'f1_score': np.float64(0.8559629283060692)}"
      ]
     },
     "execution_count": 19,
     "metadata": {},
     "output_type": "execute_result"
    }
   ],
   "source": [
    "# Objective only dataset\n",
    "df = pd.read_csv('Datasets/objective_only.csv')\n",
    "train_and_evaluate(df)"
   ]
  },
  {
   "cell_type": "code",
   "execution_count": 20,
   "id": "7608eab9-3cd1-401a-be02-938957c2f0d1",
   "metadata": {},
   "outputs": [
    {
     "name": "stdout",
     "output_type": "stream",
     "text": [
      "SVM CV Metrics (averaged over 5 folds):\n",
      "Accuracy: 87.68\n",
      "Precision: 83.99\n",
      "Recall: 70.91\n",
      "F1_score: 74.64\n"
     ]
    },
    {
     "data": {
      "text/plain": [
       "{'accuracy': np.float64(0.8767594861454073),\n",
       " 'precision': np.float64(0.8399422103122957),\n",
       " 'recall': np.float64(0.709055808338783),\n",
       " 'f1_score': np.float64(0.7464348151164265)}"
      ]
     },
     "execution_count": 20,
     "metadata": {},
     "output_type": "execute_result"
    }
   ],
   "source": [
    "# Self Report only dataset\n",
    "df = pd.read_csv('Datasets/self_report_only.csv')\n",
    "train_and_evaluate(df)"
   ]
  },
  {
   "cell_type": "code",
   "execution_count": null,
   "id": "a887068d-fa14-42c0-b3c0-63f9c069d88b",
   "metadata": {},
   "outputs": [],
   "source": []
  }
 ],
 "metadata": {
  "kernelspec": {
   "display_name": "Python 3 (ipykernel)",
   "language": "python",
   "name": "python3"
  },
  "language_info": {
   "codemirror_mode": {
    "name": "ipython",
    "version": 3
   },
   "file_extension": ".py",
   "mimetype": "text/x-python",
   "name": "python",
   "nbconvert_exporter": "python",
   "pygments_lexer": "ipython3",
   "version": "3.13.2"
  }
 },
 "nbformat": 4,
 "nbformat_minor": 5
}
