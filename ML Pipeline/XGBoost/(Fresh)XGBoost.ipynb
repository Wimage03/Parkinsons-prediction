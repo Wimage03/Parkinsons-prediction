{
 "cells": [
  {
   "cell_type": "code",
   "execution_count": 7,
   "id": "40f8aa96-34e3-406c-9988-7f032fee5e12",
   "metadata": {},
   "outputs": [],
   "source": [
    "import pandas as pd\n",
    "import numpy as np\n",
    "from sklearn.model_selection import KFold, cross_validate\n",
    "from xgboost import XGBClassifier\n",
    "from sklearn.preprocessing import StandardScaler\n",
    "from sklearn.pipeline import make_pipeline"
   ]
  },
  {
   "cell_type": "code",
   "execution_count": 14,
   "id": "f0eab3d4-b6db-4b75-aedc-5b1d4abb343a",
   "metadata": {},
   "outputs": [],
   "source": [
    "def train_and_evaluate(dataframe, k=5):\n",
    "    # --- Data Preparation ---\n",
    "    df = dataframe.iloc[1:].copy()  # Skip the first row\n",
    "    X = df.iloc[:, 2:]\n",
    "    y = df.iloc[:, 1]\n",
    "\n",
    "    # --- Pipeline: StandardScaler + XGBClassifier ---\n",
    "    # Although XGBoost can handle varying scales decently, scaling can still help in many cases\n",
    "    xgb_pipeline = make_pipeline(\n",
    "        StandardScaler(),\n",
    "        XGBClassifier(\n",
    "            n_estimators=100,\n",
    "            eval_metric='logloss', \n",
    "            random_state=42,\n",
    "            n_jobs=-1\n",
    "        )\n",
    "    )\n",
    "\n",
    "\n",
    "    # --- Cross Validation Setup ---\n",
    "    cv = KFold(n_splits=k, shuffle=True, random_state=42)\n",
    "    scoring = ['accuracy', 'precision_macro', 'recall_macro', 'f1_macro']\n",
    "\n",
    "    # --- Perform Cross Validation ---\n",
    "    cv_results = cross_validate(xgb_pipeline, X, y, cv=cv, scoring=scoring)\n",
    "\n",
    "    # --- Calculate Average Metrics ---\n",
    "    avg_accuracy  = np.mean(cv_results['test_accuracy'])\n",
    "    avg_precision = np.mean(cv_results['test_precision_macro'])\n",
    "    avg_recall    = np.mean(cv_results['test_recall_macro'])\n",
    "    avg_f1        = np.mean(cv_results['test_f1_macro'])\n",
    "\n",
    "    # --- Print or Return Results ---\n",
    "    metrics = {\n",
    "        'accuracy':  avg_accuracy,\n",
    "        'precision': avg_precision,\n",
    "        'recall':    avg_recall,\n",
    "        'f1_score':  avg_f1\n",
    "    }\n",
    "\n",
    "    print(f\"XGBoost CV Metrics (averaged over {k} folds):\")\n",
    "    for metric_name, value in metrics.items():\n",
    "        print(f\"{metric_name.capitalize()}: {value*100:.2f}\")\n",
    "\n",
    "    return metrics\n"
   ]
  },
  {
   "cell_type": "code",
   "execution_count": 15,
   "id": "e4dc599c-9a1b-401d-8193-768bb1935515",
   "metadata": {},
   "outputs": [
    {
     "name": "stdout",
     "output_type": "stream",
     "text": [
      "XGBoost CV Metrics (averaged over 5 folds):\n",
      "Accuracy: 93.80\n",
      "Precision: 91.06\n",
      "Recall: 87.04\n",
      "F1_score: 88.84\n"
     ]
    },
    {
     "data": {
      "text/plain": [
       "{'accuracy': np.float64(0.9379806913007112),\n",
       " 'precision': np.float64(0.9106131270998343),\n",
       " 'recall': np.float64(0.8703597238167895),\n",
       " 'f1_score': np.float64(0.8883756878001584)}"
      ]
     },
     "execution_count": 15,
     "metadata": {},
     "output_type": "execute_result"
    }
   ],
   "source": [
    "# Combined dataset\n",
    "df = pd.read_csv('Datasets/combined_dataset.csv')\n",
    "train_and_evaluate(df)"
   ]
  },
  {
   "cell_type": "code",
   "execution_count": 16,
   "id": "82fa216d-2fc0-4dcd-bca1-8ca9116ef1b0",
   "metadata": {},
   "outputs": [
    {
     "name": "stdout",
     "output_type": "stream",
     "text": [
      "XGBoost CV Metrics (averaged over 5 folds):\n",
      "Accuracy: 93.27\n",
      "Precision: 89.99\n",
      "Recall: 87.11\n",
      "F1_score: 88.45\n"
     ]
    },
    {
     "data": {
      "text/plain": [
       "{'accuracy': np.float64(0.9326882303916753),\n",
       " 'precision': np.float64(0.8998662609179254),\n",
       " 'recall': np.float64(0.8710617502848631),\n",
       " 'f1_score': np.float64(0.8844517463965621)}"
      ]
     },
     "execution_count": 16,
     "metadata": {},
     "output_type": "execute_result"
    }
   ],
   "source": [
    "# Motor only dataset\n",
    "df = pd.read_csv('Datasets/motor_only.csv')\n",
    "train_and_evaluate(df)"
   ]
  },
  {
   "cell_type": "code",
   "execution_count": 17,
   "id": "c38d8eb2-2527-4a71-939a-bf1c3de96ac7",
   "metadata": {},
   "outputs": [
    {
     "name": "stdout",
     "output_type": "stream",
     "text": [
      "XGBoost CV Metrics (averaged over 5 folds):\n",
      "Accuracy: 86.09\n",
      "Precision: 79.93\n",
      "Recall: 73.41\n",
      "F1_score: 76.02\n"
     ]
    },
    {
     "data": {
      "text/plain": [
       "{'accuracy': np.float64(0.8608799089078669),\n",
       " 'precision': np.float64(0.7993200759233035),\n",
       " 'recall': np.float64(0.7340822992819322),\n",
       " 'f1_score': np.float64(0.7601504458397902)}"
      ]
     },
     "execution_count": 17,
     "metadata": {},
     "output_type": "execute_result"
    }
   ],
   "source": [
    "# Non-motor only dataset\n",
    "df = pd.read_csv('Datasets/non_motor_only.csv')\n",
    "train_and_evaluate(df)"
   ]
  },
  {
   "cell_type": "code",
   "execution_count": 18,
   "id": "1164fa93-ec43-4d68-99be-619d77b046d8",
   "metadata": {},
   "outputs": [
    {
     "name": "stdout",
     "output_type": "stream",
     "text": [
      "XGBoost CV Metrics (averaged over 5 folds):\n",
      "Accuracy: 92.79\n",
      "Precision: 90.17\n",
      "Recall: 86.02\n",
      "F1_score: 87.88\n"
     ]
    },
    {
     "data": {
      "text/plain": [
       "{'accuracy': np.float64(0.9278938236002638),\n",
       " 'precision': np.float64(0.9017277475665001),\n",
       " 'recall': np.float64(0.8601601450405143),\n",
       " 'f1_score': np.float64(0.8788179282894099)}"
      ]
     },
     "execution_count": 18,
     "metadata": {},
     "output_type": "execute_result"
    }
   ],
   "source": [
    "# Objective only dataset\n",
    "df = pd.read_csv('Datasets/objective_only.csv')\n",
    "train_and_evaluate(df)"
   ]
  },
  {
   "cell_type": "code",
   "execution_count": 19,
   "id": "82ea199e-d086-4055-aeb1-855e036609aa",
   "metadata": {},
   "outputs": [
    {
     "name": "stdout",
     "output_type": "stream",
     "text": [
      "XGBoost CV Metrics (averaged over 5 folds):\n",
      "Accuracy: 88.93\n",
      "Precision: 82.12\n",
      "Recall: 76.85\n",
      "F1_score: 79.12\n"
     ]
    },
    {
     "data": {
      "text/plain": [
       "{'accuracy': np.float64(0.8893431082148007),\n",
       " 'precision': np.float64(0.8212001120079883),\n",
       " 'recall': np.float64(0.7685201152014285),\n",
       " 'f1_score': np.float64(0.791194423317308)}"
      ]
     },
     "execution_count": 19,
     "metadata": {},
     "output_type": "execute_result"
    }
   ],
   "source": [
    "# Self Report only dataset\n",
    "df = pd.read_csv('Datasets/self_report_only.csv')\n",
    "train_and_evaluate(df)"
   ]
  },
  {
   "cell_type": "code",
   "execution_count": null,
   "id": "ea100821-7a66-4086-b868-ff38dbf19804",
   "metadata": {},
   "outputs": [],
   "source": []
  },
  {
   "cell_type": "code",
   "execution_count": null,
   "id": "efc66a34-1e10-4778-bc66-50461bf82b75",
   "metadata": {},
   "outputs": [],
   "source": []
  },
  {
   "cell_type": "code",
   "execution_count": null,
   "id": "bcad2428-ae5a-4c8b-91e2-40ad57a50976",
   "metadata": {},
   "outputs": [],
   "source": []
  },
  {
   "cell_type": "code",
   "execution_count": null,
   "id": "588fdb56-dfce-43c8-974e-ba16fdcbd1eb",
   "metadata": {},
   "outputs": [],
   "source": [
    "\""
   ]
  }
 ],
 "metadata": {
  "kernelspec": {
   "display_name": "Python 3 (ipykernel)",
   "language": "python",
   "name": "python3"
  },
  "language_info": {
   "codemirror_mode": {
    "name": "ipython",
    "version": 3
   },
   "file_extension": ".py",
   "mimetype": "text/x-python",
   "name": "python",
   "nbconvert_exporter": "python",
   "pygments_lexer": "ipython3",
   "version": "3.13.2"
  }
 },
 "nbformat": 4,
 "nbformat_minor": 5
}
