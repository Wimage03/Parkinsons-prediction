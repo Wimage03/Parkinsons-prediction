{
 "cells": [
  {
   "cell_type": "code",
   "execution_count": 7,
   "id": "05accc97-be25-4883-8734-bee32fe5ea3c",
   "metadata": {},
   "outputs": [],
   "source": [
    "import numpy as np\n",
    "import pandas as pd\n",
    "from sklearn.model_selection import KFold, cross_validate\n",
    "from sklearn.discriminant_analysis import LinearDiscriminantAnalysis\n",
    "from sklearn.preprocessing import StandardScaler\n",
    "from sklearn.pipeline import make_pipeline"
   ]
  },
  {
   "cell_type": "code",
   "execution_count": 11,
   "id": "1ef12f4c-4c9f-4d23-a02f-297249467423",
   "metadata": {},
   "outputs": [],
   "source": [
    "def train_and_evaluate(dataframe, k=5):\n",
    "    # --- Data Preparation ---\n",
    "    df = dataframe.iloc[1:].copy()  # Skip the first row\n",
    "    X = df.iloc[:, 2:]\n",
    "    y = df.iloc[:, 1]\n",
    "\n",
    "    # --- Pipeline: StandardScaler + LDA ---\n",
    "    # LDA often benefits from data with comparable scale, especially if features vary widely\n",
    "    lda_pipeline = make_pipeline(\n",
    "        StandardScaler(),\n",
    "        LinearDiscriminantAnalysis()\n",
    "    )\n",
    "\n",
    "    # --- Cross Validation Setup ---\n",
    "    cv = KFold(n_splits=k, shuffle=True, random_state=42)\n",
    "    scoring = ['accuracy', 'precision_macro', 'recall_macro', 'f1_macro']\n",
    "\n",
    "    # --- Perform Cross Validation ---\n",
    "    cv_results = cross_validate(lda_pipeline, X, y, cv=cv, scoring=scoring)\n",
    "\n",
    "    # --- Calculate Average Metrics ---\n",
    "    avg_accuracy  = np.mean(cv_results['test_accuracy'])\n",
    "    avg_precision = np.mean(cv_results['test_precision_macro'])\n",
    "    avg_recall    = np.mean(cv_results['test_recall_macro'])\n",
    "    avg_f1        = np.mean(cv_results['test_f1_macro'])\n",
    "\n",
    "    # --- Print or Return Results ---\n",
    "    metrics = {\n",
    "        'accuracy':  avg_accuracy,\n",
    "        'precision': avg_precision,\n",
    "        'recall':    avg_recall,\n",
    "        'f1_score':  avg_f1\n",
    "    }\n",
    "\n",
    "    print(f\"LDA CV Metrics (averaged over {k} folds):\")\n",
    "    for metric_name, value in metrics.items():\n",
    "        print(f\"{metric_name.capitalize()}: {value*100:.2f}\")\n",
    "\n",
    "    return metrics"
   ]
  },
  {
   "cell_type": "code",
   "execution_count": 12,
   "id": "d69426af-e464-4f50-8189-5983178c61b2",
   "metadata": {},
   "outputs": [
    {
     "name": "stdout",
     "output_type": "stream",
     "text": [
      "LDA CV Metrics (averaged over 5 folds):\n",
      "Accuracy: 90.90\n",
      "Precision: 84.49\n",
      "Recall: 86.76\n",
      "F1_score: 85.51\n"
     ]
    },
    {
     "data": {
      "text/plain": [
       "{'accuracy': np.float64(0.909018390496174),\n",
       " 'precision': np.float64(0.8448515163188596),\n",
       " 'recall': np.float64(0.8676326572938964),\n",
       " 'f1_score': np.float64(0.8551237847111638)}"
      ]
     },
     "execution_count": 12,
     "metadata": {},
     "output_type": "execute_result"
    }
   ],
   "source": [
    "# Combined dataset\n",
    "df = pd.read_csv('Datasets/combined_dataset.csv')\n",
    "train_and_evaluate(df)"
   ]
  },
  {
   "cell_type": "code",
   "execution_count": 13,
   "id": "98827937-597c-4410-b97a-fdec17795d6c",
   "metadata": {},
   "outputs": [
    {
     "name": "stdout",
     "output_type": "stream",
     "text": [
      "LDA CV Metrics (averaged over 5 folds):\n",
      "Accuracy: 90.20\n",
      "Precision: 83.97\n",
      "Recall: 86.13\n",
      "F1_score: 84.90\n"
     ]
    },
    {
     "data": {
      "text/plain": [
       "{'accuracy': np.float64(0.9020280767659699),\n",
       " 'precision': np.float64(0.8396749753124993),\n",
       " 'recall': np.float64(0.861260267324643),\n",
       " 'f1_score': np.float64(0.8490301871417258)}"
      ]
     },
     "execution_count": 13,
     "metadata": {},
     "output_type": "execute_result"
    }
   ],
   "source": [
    "# Motor only dataset\n",
    "df = pd.read_csv('Datasets/motor_only.csv')\n",
    "train_and_evaluate(df)"
   ]
  },
  {
   "cell_type": "code",
   "execution_count": 14,
   "id": "29e78b9e-0117-4786-9860-42011fcb1841",
   "metadata": {},
   "outputs": [
    {
     "name": "stdout",
     "output_type": "stream",
     "text": [
      "LDA CV Metrics (averaged over 5 folds):\n",
      "Accuracy: 78.96\n",
      "Precision: 68.42\n",
      "Recall: 65.54\n",
      "F1_score: 66.79\n"
     ]
    },
    {
     "data": {
      "text/plain": [
       "{'accuracy': np.float64(0.7895714370502189),\n",
       " 'precision': np.float64(0.684155325517747),\n",
       " 'recall': np.float64(0.6553544102096054),\n",
       " 'f1_score': np.float64(0.6679492992519267)}"
      ]
     },
     "execution_count": 14,
     "metadata": {},
     "output_type": "execute_result"
    }
   ],
   "source": [
    "# Non-motor only dataset\n",
    "df = pd.read_csv('Datasets/non_motor_only.csv')\n",
    "train_and_evaluate(df)"
   ]
  },
  {
   "cell_type": "code",
   "execution_count": 15,
   "id": "3f2882bc-727a-4ab6-9c84-f954b078a278",
   "metadata": {},
   "outputs": [
    {
     "name": "stdout",
     "output_type": "stream",
     "text": [
      "LDA CV Metrics (averaged over 5 folds):\n",
      "Accuracy: 89.37\n",
      "Precision: 83.18\n",
      "Recall: 85.70\n",
      "F1_score: 84.26\n"
     ]
    },
    {
     "data": {
      "text/plain": [
       "{'accuracy': np.float64(0.8937382637332713),\n",
       " 'precision': np.float64(0.831837941600638),\n",
       " 'recall': np.float64(0.8570270895183343),\n",
       " 'f1_score': np.float64(0.842568039411405)}"
      ]
     },
     "execution_count": 15,
     "metadata": {},
     "output_type": "execute_result"
    }
   ],
   "source": [
    "# Objective only dataset\n",
    "df = pd.read_csv('Datasets/objective_only.csv')\n",
    "train_and_evaluate(df)"
   ]
  },
  {
   "cell_type": "code",
   "execution_count": 16,
   "id": "4f33bf10-fd79-47ba-8860-3e66354fdb40",
   "metadata": {},
   "outputs": [
    {
     "name": "stdout",
     "output_type": "stream",
     "text": [
      "LDA CV Metrics (averaged over 5 folds):\n",
      "Accuracy: 84.52\n",
      "Precision: 73.98\n",
      "Recall: 73.56\n",
      "F1_score: 73.67\n"
     ]
    },
    {
     "data": {
      "text/plain": [
       "{'accuracy': np.float64(0.8452002316206011),\n",
       " 'precision': np.float64(0.7398370148022086),\n",
       " 'recall': np.float64(0.7356360249853078),\n",
       " 'f1_score': np.float64(0.7367441010558747)}"
      ]
     },
     "execution_count": 16,
     "metadata": {},
     "output_type": "execute_result"
    }
   ],
   "source": [
    "# Self Report only dataset\n",
    "df = pd.read_csv('Datasets/self_report_only.csv')\n",
    "train_and_evaluate(df)"
   ]
  },
  {
   "cell_type": "code",
   "execution_count": null,
   "id": "ea932f19-976e-471d-984c-fd802beed82d",
   "metadata": {},
   "outputs": [],
   "source": []
  }
 ],
 "metadata": {
  "kernelspec": {
   "display_name": "Python 3 (ipykernel)",
   "language": "python",
   "name": "python3"
  },
  "language_info": {
   "codemirror_mode": {
    "name": "ipython",
    "version": 3
   },
   "file_extension": ".py",
   "mimetype": "text/x-python",
   "name": "python",
   "nbconvert_exporter": "python",
   "pygments_lexer": "ipython3",
   "version": "3.13.2"
  }
 },
 "nbformat": 4,
 "nbformat_minor": 5
}
