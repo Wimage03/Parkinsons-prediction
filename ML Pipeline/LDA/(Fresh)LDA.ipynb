{
 "cells": [
  {
   "cell_type": "code",
   "execution_count": 1,
   "id": "05accc97-be25-4883-8734-bee32fe5ea3c",
   "metadata": {},
   "outputs": [],
   "source": [
    "import numpy as np\n",
    "from sklearn.model_selection import KFold, cross_validate\n",
    "from sklearn.discriminant_analysis import LinearDiscriminantAnalysis\n",
    "from sklearn.preprocessing import StandardScaler\n",
    "from sklearn.pipeline import make_pipeline"
   ]
  },
  {
   "cell_type": "code",
   "execution_count": 2,
   "id": "1ef12f4c-4c9f-4d23-a02f-297249467423",
   "metadata": {},
   "outputs": [],
   "source": [
    "def train_and_evaluate_lda(dataframe, k=5):\n",
    "    # --- Data Preparation ---\n",
    "    df = dataframe.iloc[1:].copy()  # Skip the first row\n",
    "    X = df.iloc[:, 2:]\n",
    "    y = df.iloc[:, 1]\n",
    "\n",
    "    # --- Pipeline: StandardScaler + LDA ---\n",
    "    # LDA often benefits from data with comparable scale, especially if features vary widely\n",
    "    lda_pipeline = make_pipeline(\n",
    "        StandardScaler(),\n",
    "        LinearDiscriminantAnalysis()\n",
    "    )\n",
    "\n",
    "    # --- Cross Validation Setup ---\n",
    "    cv = KFold(n_splits=k, shuffle=True, random_state=42)\n",
    "    scoring = ['accuracy', 'precision_macro', 'recall_macro', 'f1_macro']\n",
    "\n",
    "    # --- Perform Cross Validation ---\n",
    "    cv_results = cross_validate(lda_pipeline, X, y, cv=cv, scoring=scoring)\n",
    "\n",
    "    # --- Calculate Average Metrics ---\n",
    "    avg_accuracy  = np.mean(cv_results['test_accuracy'])\n",
    "    avg_precision = np.mean(cv_results['test_precision_macro'])\n",
    "    avg_recall    = np.mean(cv_results['test_recall_macro'])\n",
    "    avg_f1        = np.mean(cv_results['test_f1_macro'])\n",
    "\n",
    "    # --- Print or Return Results ---\n",
    "    metrics = {\n",
    "        'accuracy':  avg_accuracy,\n",
    "        'precision': avg_precision,\n",
    "        'recall':    avg_recall,\n",
    "        'f1_score':  avg_f1\n",
    "    }\n",
    "\n",
    "    print(f\"LDA CV Metrics (averaged over {k} folds):\")\n",
    "    for metric_name, value in metrics.items():\n",
    "        print(f\"{metric_name.capitalize()}: {value*100:.2f}\")\n",
    "\n",
    "    return metrics"
   ]
  },
  {
   "cell_type": "code",
   "execution_count": null,
   "id": "d69426af-e464-4f50-8189-5983178c61b2",
   "metadata": {},
   "outputs": [],
   "source": []
  },
  {
   "cell_type": "code",
   "execution_count": null,
   "id": "98827937-597c-4410-b97a-fdec17795d6c",
   "metadata": {},
   "outputs": [],
   "source": []
  },
  {
   "cell_type": "code",
   "execution_count": null,
   "id": "29e78b9e-0117-4786-9860-42011fcb1841",
   "metadata": {},
   "outputs": [],
   "source": []
  },
  {
   "cell_type": "code",
   "execution_count": null,
   "id": "3f2882bc-727a-4ab6-9c84-f954b078a278",
   "metadata": {},
   "outputs": [],
   "source": []
  },
  {
   "cell_type": "code",
   "execution_count": null,
   "id": "4f33bf10-fd79-47ba-8860-3e66354fdb40",
   "metadata": {},
   "outputs": [],
   "source": []
  },
  {
   "cell_type": "code",
   "execution_count": null,
   "id": "ea932f19-976e-471d-984c-fd802beed82d",
   "metadata": {},
   "outputs": [],
   "source": []
  }
 ],
 "metadata": {
  "kernelspec": {
   "display_name": "Python 3 (ipykernel)",
   "language": "python",
   "name": "python3"
  },
  "language_info": {
   "codemirror_mode": {
    "name": "ipython",
    "version": 3
   },
   "file_extension": ".py",
   "mimetype": "text/x-python",
   "name": "python",
   "nbconvert_exporter": "python",
   "pygments_lexer": "ipython3",
   "version": "3.13.2"
  }
 },
 "nbformat": 4,
 "nbformat_minor": 5
}
