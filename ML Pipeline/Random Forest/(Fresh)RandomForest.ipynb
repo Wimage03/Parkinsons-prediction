{
 "cells": [
  {
   "cell_type": "code",
   "execution_count": 4,
   "id": "031b700a-0b75-4277-ba2f-b8a9f710a5ed",
   "metadata": {},
   "outputs": [],
   "source": [
    "import numpy as np\n",
    "import pandas as pd\n",
    "from sklearn.model_selection import KFold, cross_validate\n",
    "from sklearn.ensemble import RandomForestClassifier"
   ]
  },
  {
   "cell_type": "code",
   "execution_count": 8,
   "id": "1557450b-54f9-4d49-b860-b576ae324ad8",
   "metadata": {},
   "outputs": [],
   "source": [
    "def train_and_evaluate(dataframe, k=5, n_estimators=100):\n",
    "    # --- Data Preparation ---\n",
    "    df = dataframe.iloc[1:].copy()  # Skip the first row\n",
    "    X = df.iloc[:, 2:]\n",
    "    y = df.iloc[:, 1]\n",
    "    \n",
    "    # --- Model ---\n",
    "    rf_model = RandomForestClassifier(n_estimators=n_estimators, random_state=42, n_jobs=-1)\n",
    "\n",
    "    # --- Cross Validation Setup ---\n",
    "    cv = KFold(n_splits=k, shuffle=True, random_state=42)\n",
    "    scoring = ['accuracy', 'precision_macro', 'recall_macro', 'f1_macro']\n",
    "    \n",
    "    # --- Perform Cross Validation ---\n",
    "    cv_results = cross_validate(rf_model, X, y, cv=cv, scoring=scoring)\n",
    "    \n",
    "    # --- Calculate Average Metrics ---\n",
    "    avg_accuracy = np.mean(cv_results['test_accuracy'])\n",
    "    avg_precision = np.mean(cv_results['test_precision_macro'])\n",
    "    avg_recall = np.mean(cv_results['test_recall_macro'])\n",
    "    avg_f1 = np.mean(cv_results['test_f1_macro'])\n",
    "    \n",
    "    # --- Print or Return Results ---\n",
    "    metrics = {\n",
    "        'accuracy': avg_accuracy,\n",
    "        'precision': avg_precision,\n",
    "        'recall': avg_recall,\n",
    "        'f1_score': avg_f1\n",
    "    }\n",
    "\n",
    "    print(f\"Random Forest CV Metrics (averaged over {k} folds):\")\n",
    "    for metric_name, value in metrics.items():\n",
    "        print(f\"{metric_name.capitalize()}: {value*100:.2f}\")\n",
    "\n",
    "    return metrics"
   ]
  },
  {
   "cell_type": "code",
   "execution_count": 9,
   "id": "e94b2177-88cd-4c47-aa37-8036050f66df",
   "metadata": {},
   "outputs": [
    {
     "name": "stdout",
     "output_type": "stream",
     "text": [
      "Random Forest CV Metrics (averaged over 5 folds):\n",
      "Accuracy: 92.97\n",
      "Precision: 92.89\n",
      "Recall: 81.52\n",
      "F1_score: 85.76\n"
     ]
    },
    {
     "data": {
      "text/plain": [
       "{'accuracy': np.float64(0.9296915266460948),\n",
       " 'precision': np.float64(0.9288821313357885),\n",
       " 'recall': np.float64(0.8151532059234359),\n",
       " 'f1_score': np.float64(0.8576059733227224)}"
      ]
     },
     "execution_count": 9,
     "metadata": {},
     "output_type": "execute_result"
    }
   ],
   "source": [
    "# Combined dataset\n",
    "df = pd.read_csv('Datasets/combined_dataset.csv')\n",
    "train_and_evaluate(df)"
   ]
  },
  {
   "cell_type": "code",
   "execution_count": 10,
   "id": "524da399-0a27-4a64-b8e2-4fdb8404e6a2",
   "metadata": {},
   "outputs": [
    {
     "name": "stdout",
     "output_type": "stream",
     "text": [
      "Random Forest CV Metrics (averaged over 5 folds):\n",
      "Accuracy: 92.96\n",
      "Precision: 91.36\n",
      "Recall: 84.52\n",
      "F1_score: 87.41\n"
     ]
    },
    {
     "data": {
      "text/plain": [
       "{'accuracy': np.float64(0.9295917761719059),\n",
       " 'precision': np.float64(0.9135658570271292),\n",
       " 'recall': np.float64(0.8452193639484378),\n",
       " 'f1_score': np.float64(0.8741159124707094)}"
      ]
     },
     "execution_count": 10,
     "metadata": {},
     "output_type": "execute_result"
    }
   ],
   "source": [
    "# Motor only dataset\n",
    "df = pd.read_csv('Datasets/motor_only.csv')\n",
    "train_and_evaluate(df)"
   ]
  },
  {
   "cell_type": "code",
   "execution_count": 11,
   "id": "5e61dc60-4e90-4d1a-8f1b-532c39f2888d",
   "metadata": {},
   "outputs": [
    {
     "name": "stdout",
     "output_type": "stream",
     "text": [
      "Random Forest CV Metrics (averaged over 5 folds):\n",
      "Accuracy: 84.87\n",
      "Precision: 79.38\n",
      "Recall: 69.76\n",
      "F1_score: 73.30\n"
     ]
    },
    {
     "data": {
      "text/plain": [
       "{'accuracy': np.float64(0.8486961366142595),\n",
       " 'precision': np.float64(0.7938040917611728),\n",
       " 'recall': np.float64(0.6976359159302039),\n",
       " 'f1_score': np.float64(0.7330464521549442)}"
      ]
     },
     "execution_count": 11,
     "metadata": {},
     "output_type": "execute_result"
    }
   ],
   "source": [
    "# Non-motor only dataset\n",
    "df = pd.read_csv('Datasets/non_motor_only.csv')\n",
    "train_and_evaluate(df)"
   ]
  },
  {
   "cell_type": "code",
   "execution_count": 12,
   "id": "bc88a4a5-7261-4419-8892-6edb51a92388",
   "metadata": {},
   "outputs": [
    {
     "name": "stdout",
     "output_type": "stream",
     "text": [
      "Random Forest CV Metrics (averaged over 5 folds):\n",
      "Accuracy: 92.45\n",
      "Precision: 91.49\n",
      "Recall: 83.34\n",
      "F1_score: 86.70\n"
     ]
    },
    {
     "data": {
      "text/plain": [
       "{'accuracy': np.float64(0.9244979184569798),\n",
       " 'precision': np.float64(0.9148741021122901),\n",
       " 'recall': np.float64(0.8334280305134705),\n",
       " 'f1_score': np.float64(0.8670407521237037)}"
      ]
     },
     "execution_count": 12,
     "metadata": {},
     "output_type": "execute_result"
    }
   ],
   "source": [
    "# Objective only dataset\n",
    "df = pd.read_csv('Datasets/objective_only.csv')\n",
    "train_and_evaluate(df)"
   ]
  },
  {
   "cell_type": "code",
   "execution_count": 13,
   "id": "131dd8b2-b715-422e-ade1-69046f4048ef",
   "metadata": {},
   "outputs": [
    {
     "name": "stdout",
     "output_type": "stream",
     "text": [
      "Random Forest CV Metrics (averaged over 5 folds):\n",
      "Accuracy: 87.96\n",
      "Precision: 82.89\n",
      "Recall: 73.29\n",
      "F1_score: 76.97\n"
     ]
    },
    {
     "data": {
      "text/plain": [
       "{'accuracy': np.float64(0.8795566889426102),\n",
       " 'precision': np.float64(0.8288936596961891),\n",
       " 'recall': np.float64(0.7328678285720065),\n",
       " 'f1_score': np.float64(0.7696508669738381)}"
      ]
     },
     "execution_count": 13,
     "metadata": {},
     "output_type": "execute_result"
    }
   ],
   "source": [
    "# Self Report only dataset\n",
    "df = pd.read_csv('Datasets/self_report_only.csv')\n",
    "train_and_evaluate(df)"
   ]
  },
  {
   "cell_type": "code",
   "execution_count": null,
   "id": "93df10fd-6b95-4c70-9964-ec90e1253539",
   "metadata": {},
   "outputs": [],
   "source": []
  }
 ],
 "metadata": {
  "kernelspec": {
   "display_name": "Python 3 (ipykernel)",
   "language": "python",
   "name": "python3"
  },
  "language_info": {
   "codemirror_mode": {
    "name": "ipython",
    "version": 3
   },
   "file_extension": ".py",
   "mimetype": "text/x-python",
   "name": "python",
   "nbconvert_exporter": "python",
   "pygments_lexer": "ipython3",
   "version": "3.13.2"
  }
 },
 "nbformat": 4,
 "nbformat_minor": 5
}
